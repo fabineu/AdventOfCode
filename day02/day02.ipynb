{
 "cells": [
  {
   "cell_type": "code",
   "execution_count": 28,
   "metadata": {},
   "outputs": [],
   "source": [
    "data = list()\n",
    "with open('data_day02.csv') as file:\n",
    "\tfor line in file:\n",
    "\t\tl = line.strip().split(' ')\n",
    "\t\tl = list(map(int, l))\n",
    "\t\tdata.append(l)"
   ]
  },
  {
   "cell_type": "code",
   "execution_count": 29,
   "metadata": {},
   "outputs": [],
   "source": [
    "def all_increasing(iter1):\n",
    "    for el1, el2 in zip(iter1, iter1[1:]):\n",
    "        if el2 <= el1:\n",
    "            return False\n",
    "    return True"
   ]
  },
  {
   "cell_type": "code",
   "execution_count": 30,
   "metadata": {},
   "outputs": [],
   "source": [
    "def all_decreasing(iter1):\n",
    "    for el1, el2 in zip(iter1, iter1[1:]):\n",
    "        if el2 >= el1:\n",
    "            return False\n",
    "    return True"
   ]
  },
  {
   "cell_type": "code",
   "execution_count": 31,
   "metadata": {},
   "outputs": [],
   "source": [
    "def max_level_differ(iter1, max_level=3):\n",
    "    for el1, el2 in zip(iter1, iter1[1:]):\n",
    "        if abs(el1 - el2) > max_level:\n",
    "            return False\n",
    "    return True"
   ]
  },
  {
   "cell_type": "code",
   "execution_count": 32,
   "metadata": {},
   "outputs": [
    {
     "data": {
      "text/plain": [
       "598"
      ]
     },
     "execution_count": 32,
     "metadata": {},
     "output_type": "execute_result"
    }
   ],
   "source": [
    "res = sum([True if (all_decreasing(l) or all_increasing(l)) and max_level_differ(l) else False for l in data])\n",
    "res"
   ]
  },
  {
   "cell_type": "code",
   "execution_count": 33,
   "metadata": {},
   "outputs": [],
   "source": [
    "# 7 6 4 2 1: Safe without removing any level.\n",
    "# 1 2 7 8 9: Unsafe regardless of which level is removed.\n",
    "# 9 7 6 2 1: Unsafe regardless of which level is removed.\n",
    "# 1 3 2 4 5: Safe by removing the second level, 3.\n",
    "# 8 6 4 4 1: Safe by removing the third level, 4.\n",
    "# 1 3 6 7 9: Safe because the levels are all increasing by 1, 2, or 3."
   ]
  },
  {
   "cell_type": "code",
   "execution_count": 34,
   "metadata": {},
   "outputs": [],
   "source": [
    "def all_sub_l(iter1):\n",
    "    res = [iter1.copy()]\n",
    "    for i in range(len(iter1)):\n",
    "        iter_cp = iter1[:i] + iter1[i+1:]  \n",
    "        res.append(iter_cp)\n",
    "    return res"
   ]
  },
  {
   "cell_type": "code",
   "execution_count": 35,
   "metadata": {},
   "outputs": [],
   "source": [
    "def safe_count(data):\n",
    "\tcount = 0\n",
    "\tfor li in data:\n",
    "\t\tall_tolerances = all_sub_l(li)\n",
    "\t\tif any((all_decreasing(l) or all_increasing(l)) and max_level_differ(l) for l in all_tolerances):\n",
    "\t\t\tcount += 1\n",
    "\treturn count"
   ]
  },
  {
   "cell_type": "code",
   "execution_count": 36,
   "metadata": {},
   "outputs": [],
   "source": [
    "edgecases = list()\n",
    "with open('edgecases.csv') as file:\n",
    "\tfor line in file:\n",
    "\t\tl = line.strip().split(' ')\n",
    "\t\tl = list(map(int, l))\n",
    "\t\tedgecases.append(l)"
   ]
  },
  {
   "cell_type": "code",
   "execution_count": 37,
   "metadata": {},
   "outputs": [
    {
     "data": {
      "text/plain": [
       "8"
      ]
     },
     "execution_count": 37,
     "metadata": {},
     "output_type": "execute_result"
    }
   ],
   "source": [
    "safe_count(edgecases)"
   ]
  },
  {
   "cell_type": "code",
   "execution_count": 38,
   "metadata": {},
   "outputs": [
    {
     "data": {
      "text/plain": [
       "634"
      ]
     },
     "execution_count": 38,
     "metadata": {},
     "output_type": "execute_result"
    }
   ],
   "source": [
    "safe_count(data)"
   ]
  }
 ],
 "metadata": {
  "kernelspec": {
   "display_name": ".venv",
   "language": "python",
   "name": "python3"
  },
  "language_info": {
   "codemirror_mode": {
    "name": "ipython",
    "version": 3
   },
   "file_extension": ".py",
   "mimetype": "text/x-python",
   "name": "python",
   "nbconvert_exporter": "python",
   "pygments_lexer": "ipython3",
   "version": "3.12.3"
  }
 },
 "nbformat": 4,
 "nbformat_minor": 2
}
