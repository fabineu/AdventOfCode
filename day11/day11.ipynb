{
 "cells": [
  {
   "cell_type": "code",
   "execution_count": 2,
   "metadata": {},
   "outputs": [],
   "source": [
    "import numpy as np"
   ]
  },
  {
   "cell_type": "code",
   "execution_count": 3,
   "metadata": {},
   "outputs": [
    {
     "data": {
      "text/plain": [
       "array([   5688,   62084,       2, 3248809,     179,      79,       0,\n",
       "        172169])"
      ]
     },
     "execution_count": 3,
     "metadata": {},
     "output_type": "execute_result"
    }
   ],
   "source": [
    "inp = '5688 62084 2 3248809 179 79 0 172169'\n",
    "inp = np.array([int(el) for el in inp.split(' ')])\n",
    "inp\n"
   ]
  },
  {
   "cell_type": "code",
   "execution_count": 4,
   "metadata": {},
   "outputs": [],
   "source": [
    "def blink(my_list):\n",
    "    res = []\n",
    "    for el in my_list:\n",
    "        if el == 0:\n",
    "            res.append(1)\n",
    "        else:\n",
    "            num = el\n",
    "            digits = 0\n",
    "            while num > 0:\n",
    "                num //= 10\n",
    "                digits += 1\n",
    "            if digits % 2 == 0:  \n",
    "                half = 10 ** (digits // 2)\n",
    "                left, right = divmod(el, half)\n",
    "                res.extend([left, right])\n",
    "            else:\n",
    "                res.append(el * 2024)\n",
    "    return np.array(res)\n"
   ]
  },
  {
   "cell_type": "code",
   "execution_count": 5,
   "metadata": {},
   "outputs": [
    {
     "name": "stdout",
     "output_type": "stream",
     "text": [
      "186175\n"
     ]
    }
   ],
   "source": [
    "for i in range(25):\n",
    "    inp = blink(inp)\n",
    "    \n",
    "print(len(inp))"
   ]
  },
  {
   "cell_type": "code",
   "execution_count": 7,
   "metadata": {},
   "outputs": [
    {
     "name": "stdout",
     "output_type": "stream",
     "text": [
      "Total number of stones after 75 blinks: 220566831337810\n"
     ]
    }
   ],
   "source": [
    "def split_stone(n):\n",
    "    s = str(n)\n",
    "    if len(s) % 2 == 0:\n",
    "        mid = len(s) // 2\n",
    "        return int(s[:mid]), int(s[mid:])\n",
    "    return None\n",
    "\n",
    "def simulate_blinks(stones, blinks):\n",
    "    from collections import Counter\n",
    "\n",
    "    stone_counts = Counter(stones)\n",
    "\n",
    "    for _ in range(blinks):\n",
    "        new_counts = Counter()\n",
    "        for stone, count in stone_counts.items():\n",
    "            if stone == 0:\n",
    "                new_counts[1] += count\n",
    "            else:\n",
    "                if split:= split_stone(stone):\n",
    "                    left, right = split\n",
    "                    new_counts[left] += count\n",
    "                    new_counts[right] += count\n",
    "                else:\n",
    "                    new_counts[stone * 2024] += count\n",
    "        stone_counts = new_counts\n",
    "\n",
    "    return sum(stone_counts.values())\n",
    "\n",
    "inp = '5688 62084 2 3248809 179 79 0 172169'\n",
    "inp = np.array([int(el) for el in inp.split(' ')])\n",
    "\n",
    "blinks = 75\n",
    "result = simulate_blinks(inp, blinks)\n",
    "print(f\"Total number of stones after {blinks} blinks: {result}\")\n"
   ]
  },
  {
   "cell_type": "code",
   "execution_count": null,
   "metadata": {},
   "outputs": [],
   "source": [
    "for i in range(75):\n",
    "    inp = blink(inp)\n",
    "    \n",
    "print(len(inp))"
   ]
  }
 ],
 "metadata": {
  "kernelspec": {
   "display_name": ".venv",
   "language": "python",
   "name": "python3"
  },
  "language_info": {
   "codemirror_mode": {
    "name": "ipython",
    "version": 3
   },
   "file_extension": ".py",
   "mimetype": "text/x-python",
   "name": "python",
   "nbconvert_exporter": "python",
   "pygments_lexer": "ipython3",
   "version": "3.12.3"
  }
 },
 "nbformat": 4,
 "nbformat_minor": 2
}
