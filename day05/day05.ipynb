{
 "cells": [
  {
   "cell_type": "code",
   "execution_count": 87,
   "metadata": {},
   "outputs": [],
   "source": [
    "with open('rules.txt') as file:\n",
    "    rules = list()\n",
    "    for line in file:\n",
    "        line = line.strip().split('|')\n",
    "        rules.append((int(line[0]), int(line[1])))"
   ]
  },
  {
   "cell_type": "code",
   "execution_count": 88,
   "metadata": {},
   "outputs": [],
   "source": [
    "with open('data.txt') as file:\n",
    "    data = list()\n",
    "    for line in file:\n",
    "        line = line.strip().split(',')\n",
    "        line = [int(el) for el in line]\n",
    "        data.append(line)"
   ]
  },
  {
   "cell_type": "code",
   "execution_count": 95,
   "metadata": {},
   "outputs": [],
   "source": [
    "def get_reversed_pairs(my_list: list):\n",
    "    pairs = list()\n",
    "    for i in range(len(my_list)-1):\n",
    "        for j in range(i + 1, len(my_list)):\n",
    "            pair = my_list[j], my_list[i]\n",
    "            pairs.append(pair)\n",
    "    return pairs\n",
    "    "
   ]
  },
  {
   "cell_type": "code",
   "execution_count": 96,
   "metadata": {},
   "outputs": [],
   "source": [
    "def test_data(data, rules):\n",
    "\tres = list()\n",
    "\tfor test in data:\n",
    "\t\tif any([pair in rules for pair in get_reversed_pairs(test)]):\n",
    "\t\t\tcontinue\n",
    "\t\tres.append(test[len(test)//2])\n",
    "\treturn sum(res)"
   ]
  },
  {
   "cell_type": "code",
   "execution_count": 91,
   "metadata": {},
   "outputs": [
    {
     "data": {
      "text/plain": [
       "5964"
      ]
     },
     "execution_count": 91,
     "metadata": {},
     "output_type": "execute_result"
    }
   ],
   "source": [
    "test_data(data, rules)"
   ]
  },
  {
   "cell_type": "markdown",
   "metadata": {},
   "source": [
    "# -- Part Two --"
   ]
  },
  {
   "cell_type": "code",
   "execution_count": 92,
   "metadata": {},
   "outputs": [],
   "source": [
    "def sort_by_rules(test):\n",
    "\tsorted_test = [test[0]]\n",
    "\tfor el_to_sort_in in test[1:]:\n",
    "\t\tfound = False\n",
    "\t\tfor el in sorted_test:\n",
    "\t\t\tif not found:\n",
    "\t\t\t\tindex = None\n",
    "\t\t\t\tif (el_to_sort_in, el) in rules and not found:\n",
    "\t\t\t\t\tfound = True\n",
    "\t\t\t\t\tindex = sorted_test.index(el)\n",
    "\t\tif index is not None:\n",
    "\t\t\tsorted_test.insert(index, el_to_sort_in)\n",
    "\t\telse:\n",
    "\t\t\tsorted_test.append(el_to_sort_in)\n",
    "\treturn sorted_test\t\n",
    "\t\t"
   ]
  },
  {
   "cell_type": "code",
   "execution_count": 93,
   "metadata": {},
   "outputs": [],
   "source": [
    "def sum_corrected_data(data, rules):\n",
    "\tres = list()\n",
    "\tfor test in data:\n",
    "\t\tif any([pair in rules for pair in get_reversed_pairs(test)]):\n",
    "\t\t\ttest = sort_by_rules(test)\n",
    "\t\t\tres.append(test[len(test)//2])\n",
    "\treturn sum(res)"
   ]
  },
  {
   "cell_type": "code",
   "execution_count": 94,
   "metadata": {},
   "outputs": [
    {
     "data": {
      "text/plain": [
       "4719"
      ]
     },
     "execution_count": 94,
     "metadata": {},
     "output_type": "execute_result"
    }
   ],
   "source": [
    "sum_corrected_data(data, rules)"
   ]
  }
 ],
 "metadata": {
  "kernelspec": {
   "display_name": ".venv",
   "language": "python",
   "name": "python3"
  },
  "language_info": {
   "codemirror_mode": {
    "name": "ipython",
    "version": 3
   },
   "file_extension": ".py",
   "mimetype": "text/x-python",
   "name": "python",
   "nbconvert_exporter": "python",
   "pygments_lexer": "ipython3",
   "version": "3.12.3"
  }
 },
 "nbformat": 4,
 "nbformat_minor": 2
}
